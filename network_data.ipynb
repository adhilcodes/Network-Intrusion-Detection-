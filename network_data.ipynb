{
  "cells": [
    {
      "cell_type": "markdown",
      "metadata": {
        "id": "PV9WHwNMX0wK"
      },
      "source": [
        "# Importing libraries and loading the data"
      ]
    },
    {
      "cell_type": "code",
      "execution_count": null,
      "metadata": {
        "id": "3QRbgYWvVtFQ"
      },
      "outputs": [],
      "source": [
        "from sklearn.metrics import accuracy_score, confusion_matrix, roc_curve # for calculating accuracy of model\n",
        "from sklearn.model_selection import train_test_split # for splitting the dataset for training and testing\n",
        "from sklearn.metrics import classification_report # for generating a classification report of model\n",
        "from sklearn.ensemble import RandomForestClassifier\n",
        "from sklearn.svm import SVC\n",
        "import pickle\n",
        "from os import path\n",
        "\n",
        "import pandas as pd\n",
        "import numpy as np\n",
        "import matplotlib.pyplot as plt\n",
        "import seaborn as sns"
      ]
    },
    {
      "cell_type": "code",
      "execution_count": null,
      "metadata": {
        "colab": {
          "base_uri": "https://localhost:8080/"
        },
        "id": "EmPUgUhbeyzq",
        "outputId": "f14cf40d-a75d-4adb-b878-d89ea85a7892"
      },
      "outputs": [
        {
          "output_type": "stream",
          "name": "stdout",
          "text": [
            "Mounted at /content/drive\n"
          ]
        }
      ],
      "source": [
        "from google.colab import drive\n",
        "drive.mount('/content/drive')"
      ]
    },
    {
      "cell_type": "code",
      "execution_count": null,
      "metadata": {
        "colab": {
          "base_uri": "https://localhost:8080/",
          "height": 317
        },
        "id": "FW4gbnLBV_Ij",
        "outputId": "3a6d8c1f-a85d-4f7c-c838-5ce6b6f6ef42"
      },
      "outputs": [
        {
          "output_type": "execute_result",
          "data": {
            "text/plain": [
              "   Unnamed: 0     count  logged_in  srv_serror_rate  serror_rate  \\\n",
              "0           0 -0.717045  -0.809262        -0.631929    -0.637209   \n",
              "1           1 -0.620982  -0.809262        -0.631929    -0.637209   \n",
              "2           2  0.339648  -0.809262         1.605104     1.602664   \n",
              "3           3 -0.690846   1.235694        -0.184522    -0.189235   \n",
              "4           4 -0.472521   1.235694        -0.631929    -0.637209   \n",
              "\n",
              "   dst_host_serror_rate  dst_host_same_srv_rate  dst_host_srv_serror_rate  \\\n",
              "0             -0.639532               -0.782367                 -0.624871   \n",
              "1             -0.639532               -1.161030                 -0.624871   \n",
              "2              1.608759               -0.938287                  1.618955   \n",
              "3             -0.572083                1.066401                 -0.602433   \n",
              "4             -0.639532                1.066401                 -0.624871   \n",
              "\n",
              "   dst_host_srv_count  same_srv_rate  ...  flag_S3  flag_SF  flag_SH  \\\n",
              "0           -0.818890       0.771283  ...        0        1        0   \n",
              "1           -1.035688      -1.321428  ...        0        1        0   \n",
              "2           -0.809857      -1.389669  ...        0        0        0   \n",
              "3            1.258754       0.771283  ...        0        1        0   \n",
              "4            1.258754       0.771283  ...        0        1        0   \n",
              "\n",
              "   intrusion  Dos  Probe  R2L  U2R  normal   label  \n",
              "0          4    0      0    0    0       1  normal  \n",
              "1          4    0      0    0    0       1  normal  \n",
              "2          0    1      0    0    0       0     Dos  \n",
              "3          4    0      0    0    0       1  normal  \n",
              "4          4    0      0    0    0       1  normal  \n",
              "\n",
              "[5 rows x 101 columns]"
            ],
            "text/html": [
              "\n",
              "  <div id=\"df-74200211-fbb0-4418-8fa1-354d61a0c132\">\n",
              "    <div class=\"colab-df-container\">\n",
              "      <div>\n",
              "<style scoped>\n",
              "    .dataframe tbody tr th:only-of-type {\n",
              "        vertical-align: middle;\n",
              "    }\n",
              "\n",
              "    .dataframe tbody tr th {\n",
              "        vertical-align: top;\n",
              "    }\n",
              "\n",
              "    .dataframe thead th {\n",
              "        text-align: right;\n",
              "    }\n",
              "</style>\n",
              "<table border=\"1\" class=\"dataframe\">\n",
              "  <thead>\n",
              "    <tr style=\"text-align: right;\">\n",
              "      <th></th>\n",
              "      <th>Unnamed: 0</th>\n",
              "      <th>count</th>\n",
              "      <th>logged_in</th>\n",
              "      <th>srv_serror_rate</th>\n",
              "      <th>serror_rate</th>\n",
              "      <th>dst_host_serror_rate</th>\n",
              "      <th>dst_host_same_srv_rate</th>\n",
              "      <th>dst_host_srv_serror_rate</th>\n",
              "      <th>dst_host_srv_count</th>\n",
              "      <th>same_srv_rate</th>\n",
              "      <th>...</th>\n",
              "      <th>flag_S3</th>\n",
              "      <th>flag_SF</th>\n",
              "      <th>flag_SH</th>\n",
              "      <th>intrusion</th>\n",
              "      <th>Dos</th>\n",
              "      <th>Probe</th>\n",
              "      <th>R2L</th>\n",
              "      <th>U2R</th>\n",
              "      <th>normal</th>\n",
              "      <th>label</th>\n",
              "    </tr>\n",
              "  </thead>\n",
              "  <tbody>\n",
              "    <tr>\n",
              "      <th>0</th>\n",
              "      <td>0</td>\n",
              "      <td>-0.717045</td>\n",
              "      <td>-0.809262</td>\n",
              "      <td>-0.631929</td>\n",
              "      <td>-0.637209</td>\n",
              "      <td>-0.639532</td>\n",
              "      <td>-0.782367</td>\n",
              "      <td>-0.624871</td>\n",
              "      <td>-0.818890</td>\n",
              "      <td>0.771283</td>\n",
              "      <td>...</td>\n",
              "      <td>0</td>\n",
              "      <td>1</td>\n",
              "      <td>0</td>\n",
              "      <td>4</td>\n",
              "      <td>0</td>\n",
              "      <td>0</td>\n",
              "      <td>0</td>\n",
              "      <td>0</td>\n",
              "      <td>1</td>\n",
              "      <td>normal</td>\n",
              "    </tr>\n",
              "    <tr>\n",
              "      <th>1</th>\n",
              "      <td>1</td>\n",
              "      <td>-0.620982</td>\n",
              "      <td>-0.809262</td>\n",
              "      <td>-0.631929</td>\n",
              "      <td>-0.637209</td>\n",
              "      <td>-0.639532</td>\n",
              "      <td>-1.161030</td>\n",
              "      <td>-0.624871</td>\n",
              "      <td>-1.035688</td>\n",
              "      <td>-1.321428</td>\n",
              "      <td>...</td>\n",
              "      <td>0</td>\n",
              "      <td>1</td>\n",
              "      <td>0</td>\n",
              "      <td>4</td>\n",
              "      <td>0</td>\n",
              "      <td>0</td>\n",
              "      <td>0</td>\n",
              "      <td>0</td>\n",
              "      <td>1</td>\n",
              "      <td>normal</td>\n",
              "    </tr>\n",
              "    <tr>\n",
              "      <th>2</th>\n",
              "      <td>2</td>\n",
              "      <td>0.339648</td>\n",
              "      <td>-0.809262</td>\n",
              "      <td>1.605104</td>\n",
              "      <td>1.602664</td>\n",
              "      <td>1.608759</td>\n",
              "      <td>-0.938287</td>\n",
              "      <td>1.618955</td>\n",
              "      <td>-0.809857</td>\n",
              "      <td>-1.389669</td>\n",
              "      <td>...</td>\n",
              "      <td>0</td>\n",
              "      <td>0</td>\n",
              "      <td>0</td>\n",
              "      <td>0</td>\n",
              "      <td>1</td>\n",
              "      <td>0</td>\n",
              "      <td>0</td>\n",
              "      <td>0</td>\n",
              "      <td>0</td>\n",
              "      <td>Dos</td>\n",
              "    </tr>\n",
              "    <tr>\n",
              "      <th>3</th>\n",
              "      <td>3</td>\n",
              "      <td>-0.690846</td>\n",
              "      <td>1.235694</td>\n",
              "      <td>-0.184522</td>\n",
              "      <td>-0.189235</td>\n",
              "      <td>-0.572083</td>\n",
              "      <td>1.066401</td>\n",
              "      <td>-0.602433</td>\n",
              "      <td>1.258754</td>\n",
              "      <td>0.771283</td>\n",
              "      <td>...</td>\n",
              "      <td>0</td>\n",
              "      <td>1</td>\n",
              "      <td>0</td>\n",
              "      <td>4</td>\n",
              "      <td>0</td>\n",
              "      <td>0</td>\n",
              "      <td>0</td>\n",
              "      <td>0</td>\n",
              "      <td>1</td>\n",
              "      <td>normal</td>\n",
              "    </tr>\n",
              "    <tr>\n",
              "      <th>4</th>\n",
              "      <td>4</td>\n",
              "      <td>-0.472521</td>\n",
              "      <td>1.235694</td>\n",
              "      <td>-0.631929</td>\n",
              "      <td>-0.637209</td>\n",
              "      <td>-0.639532</td>\n",
              "      <td>1.066401</td>\n",
              "      <td>-0.624871</td>\n",
              "      <td>1.258754</td>\n",
              "      <td>0.771283</td>\n",
              "      <td>...</td>\n",
              "      <td>0</td>\n",
              "      <td>1</td>\n",
              "      <td>0</td>\n",
              "      <td>4</td>\n",
              "      <td>0</td>\n",
              "      <td>0</td>\n",
              "      <td>0</td>\n",
              "      <td>0</td>\n",
              "      <td>1</td>\n",
              "      <td>normal</td>\n",
              "    </tr>\n",
              "  </tbody>\n",
              "</table>\n",
              "<p>5 rows × 101 columns</p>\n",
              "</div>\n",
              "      <button class=\"colab-df-convert\" onclick=\"convertToInteractive('df-74200211-fbb0-4418-8fa1-354d61a0c132')\"\n",
              "              title=\"Convert this dataframe to an interactive table.\"\n",
              "              style=\"display:none;\">\n",
              "        \n",
              "  <svg xmlns=\"http://www.w3.org/2000/svg\" height=\"24px\"viewBox=\"0 0 24 24\"\n",
              "       width=\"24px\">\n",
              "    <path d=\"M0 0h24v24H0V0z\" fill=\"none\"/>\n",
              "    <path d=\"M18.56 5.44l.94 2.06.94-2.06 2.06-.94-2.06-.94-.94-2.06-.94 2.06-2.06.94zm-11 1L8.5 8.5l.94-2.06 2.06-.94-2.06-.94L8.5 2.5l-.94 2.06-2.06.94zm10 10l.94 2.06.94-2.06 2.06-.94-2.06-.94-.94-2.06-.94 2.06-2.06.94z\"/><path d=\"M17.41 7.96l-1.37-1.37c-.4-.4-.92-.59-1.43-.59-.52 0-1.04.2-1.43.59L10.3 9.45l-7.72 7.72c-.78.78-.78 2.05 0 2.83L4 21.41c.39.39.9.59 1.41.59.51 0 1.02-.2 1.41-.59l7.78-7.78 2.81-2.81c.8-.78.8-2.07 0-2.86zM5.41 20L4 18.59l7.72-7.72 1.47 1.35L5.41 20z\"/>\n",
              "  </svg>\n",
              "      </button>\n",
              "      \n",
              "  <style>\n",
              "    .colab-df-container {\n",
              "      display:flex;\n",
              "      flex-wrap:wrap;\n",
              "      gap: 12px;\n",
              "    }\n",
              "\n",
              "    .colab-df-convert {\n",
              "      background-color: #E8F0FE;\n",
              "      border: none;\n",
              "      border-radius: 50%;\n",
              "      cursor: pointer;\n",
              "      display: none;\n",
              "      fill: #1967D2;\n",
              "      height: 32px;\n",
              "      padding: 0 0 0 0;\n",
              "      width: 32px;\n",
              "    }\n",
              "\n",
              "    .colab-df-convert:hover {\n",
              "      background-color: #E2EBFA;\n",
              "      box-shadow: 0px 1px 2px rgba(60, 64, 67, 0.3), 0px 1px 3px 1px rgba(60, 64, 67, 0.15);\n",
              "      fill: #174EA6;\n",
              "    }\n",
              "\n",
              "    [theme=dark] .colab-df-convert {\n",
              "      background-color: #3B4455;\n",
              "      fill: #D2E3FC;\n",
              "    }\n",
              "\n",
              "    [theme=dark] .colab-df-convert:hover {\n",
              "      background-color: #434B5C;\n",
              "      box-shadow: 0px 1px 3px 1px rgba(0, 0, 0, 0.15);\n",
              "      filter: drop-shadow(0px 1px 2px rgba(0, 0, 0, 0.3));\n",
              "      fill: #FFFFFF;\n",
              "    }\n",
              "  </style>\n",
              "\n",
              "      <script>\n",
              "        const buttonEl =\n",
              "          document.querySelector('#df-74200211-fbb0-4418-8fa1-354d61a0c132 button.colab-df-convert');\n",
              "        buttonEl.style.display =\n",
              "          google.colab.kernel.accessAllowed ? 'block' : 'none';\n",
              "\n",
              "        async function convertToInteractive(key) {\n",
              "          const element = document.querySelector('#df-74200211-fbb0-4418-8fa1-354d61a0c132');\n",
              "          const dataTable =\n",
              "            await google.colab.kernel.invokeFunction('convertToInteractive',\n",
              "                                                     [key], {});\n",
              "          if (!dataTable) return;\n",
              "\n",
              "          const docLinkHtml = 'Like what you see? Visit the ' +\n",
              "            '<a target=\"_blank\" href=https://colab.research.google.com/notebooks/data_table.ipynb>data table notebook</a>'\n",
              "            + ' to learn more about interactive tables.';\n",
              "          element.innerHTML = '';\n",
              "          dataTable['output_type'] = 'display_data';\n",
              "          await google.colab.output.renderOutput(dataTable, element);\n",
              "          const docLink = document.createElement('div');\n",
              "          docLink.innerHTML = docLinkHtml;\n",
              "          element.appendChild(docLink);\n",
              "        }\n",
              "      </script>\n",
              "    </div>\n",
              "  </div>\n",
              "  "
            ]
          },
          "metadata": {},
          "execution_count": 9
        }
      ],
      "source": [
        "data = pd.read_csv(\"/content/drive/MyDrive/Network project/multi_data.csv\")  \n",
        "data.head()"
      ]
    },
    {
      "cell_type": "code",
      "execution_count": null,
      "metadata": {
        "colab": {
          "base_uri": "https://localhost:8080/"
        },
        "id": "xrwaBkIzWKPL",
        "outputId": "bf4adef5-a11d-4d21-8120-4990ac77f4ac"
      },
      "outputs": [
        {
          "data": {
            "text/plain": [
              "(125973, 101)"
            ]
          },
          "execution_count": 4,
          "metadata": {},
          "output_type": "execute_result"
        }
      ],
      "source": [
        "data.shape"
      ]
    },
    {
      "cell_type": "code",
      "execution_count": null,
      "metadata": {
        "colab": {
          "base_uri": "https://localhost:8080/"
        },
        "id": "K4IF-bE2WN6n",
        "outputId": "416e8cbb-6ad7-4702-a30b-b0b153c0b522"
      },
      "outputs": [
        {
          "data": {
            "text/plain": [
              "array(['normal', 'Dos', 'R2L', 'Probe', 'U2R'], dtype=object)"
            ]
          },
          "execution_count": 5,
          "metadata": {},
          "output_type": "execute_result"
        }
      ],
      "source": [
        "labels = data[\"label\"].unique()\n",
        "labels"
      ]
    },
    {
      "cell_type": "code",
      "execution_count": null,
      "metadata": {
        "colab": {
          "base_uri": "https://localhost:8080/",
          "height": 424
        },
        "id": "ZF2j2gWPWV1Z",
        "outputId": "ee85b3b8-b0de-40f1-da80-e4d0cd7981cb"
      },
      "outputs": [
        {
          "data": {
            "text/html": [
              "\n",
              "  <div id=\"df-e863da16-fbb9-4c5e-99c0-6ab8d32d65dd\">\n",
              "    <div class=\"colab-df-container\">\n",
              "      <div>\n",
              "<style scoped>\n",
              "    .dataframe tbody tr th:only-of-type {\n",
              "        vertical-align: middle;\n",
              "    }\n",
              "\n",
              "    .dataframe tbody tr th {\n",
              "        vertical-align: top;\n",
              "    }\n",
              "\n",
              "    .dataframe thead th {\n",
              "        text-align: right;\n",
              "    }\n",
              "</style>\n",
              "<table border=\"1\" class=\"dataframe\">\n",
              "  <thead>\n",
              "    <tr style=\"text-align: right;\">\n",
              "      <th></th>\n",
              "      <th>0</th>\n",
              "    </tr>\n",
              "  </thead>\n",
              "  <tbody>\n",
              "    <tr>\n",
              "      <th>Unnamed: 0</th>\n",
              "      <td>0</td>\n",
              "    </tr>\n",
              "    <tr>\n",
              "      <th>count</th>\n",
              "      <td>0</td>\n",
              "    </tr>\n",
              "    <tr>\n",
              "      <th>logged_in</th>\n",
              "      <td>0</td>\n",
              "    </tr>\n",
              "    <tr>\n",
              "      <th>srv_serror_rate</th>\n",
              "      <td>0</td>\n",
              "    </tr>\n",
              "    <tr>\n",
              "      <th>serror_rate</th>\n",
              "      <td>0</td>\n",
              "    </tr>\n",
              "    <tr>\n",
              "      <th>...</th>\n",
              "      <td>...</td>\n",
              "    </tr>\n",
              "    <tr>\n",
              "      <th>Probe</th>\n",
              "      <td>0</td>\n",
              "    </tr>\n",
              "    <tr>\n",
              "      <th>R2L</th>\n",
              "      <td>0</td>\n",
              "    </tr>\n",
              "    <tr>\n",
              "      <th>U2R</th>\n",
              "      <td>0</td>\n",
              "    </tr>\n",
              "    <tr>\n",
              "      <th>normal</th>\n",
              "      <td>0</td>\n",
              "    </tr>\n",
              "    <tr>\n",
              "      <th>label</th>\n",
              "      <td>0</td>\n",
              "    </tr>\n",
              "  </tbody>\n",
              "</table>\n",
              "<p>101 rows × 1 columns</p>\n",
              "</div>\n",
              "      <button class=\"colab-df-convert\" onclick=\"convertToInteractive('df-e863da16-fbb9-4c5e-99c0-6ab8d32d65dd')\"\n",
              "              title=\"Convert this dataframe to an interactive table.\"\n",
              "              style=\"display:none;\">\n",
              "        \n",
              "  <svg xmlns=\"http://www.w3.org/2000/svg\" height=\"24px\"viewBox=\"0 0 24 24\"\n",
              "       width=\"24px\">\n",
              "    <path d=\"M0 0h24v24H0V0z\" fill=\"none\"/>\n",
              "    <path d=\"M18.56 5.44l.94 2.06.94-2.06 2.06-.94-2.06-.94-.94-2.06-.94 2.06-2.06.94zm-11 1L8.5 8.5l.94-2.06 2.06-.94-2.06-.94L8.5 2.5l-.94 2.06-2.06.94zm10 10l.94 2.06.94-2.06 2.06-.94-2.06-.94-.94-2.06-.94 2.06-2.06.94z\"/><path d=\"M17.41 7.96l-1.37-1.37c-.4-.4-.92-.59-1.43-.59-.52 0-1.04.2-1.43.59L10.3 9.45l-7.72 7.72c-.78.78-.78 2.05 0 2.83L4 21.41c.39.39.9.59 1.41.59.51 0 1.02-.2 1.41-.59l7.78-7.78 2.81-2.81c.8-.78.8-2.07 0-2.86zM5.41 20L4 18.59l7.72-7.72 1.47 1.35L5.41 20z\"/>\n",
              "  </svg>\n",
              "      </button>\n",
              "      \n",
              "  <style>\n",
              "    .colab-df-container {\n",
              "      display:flex;\n",
              "      flex-wrap:wrap;\n",
              "      gap: 12px;\n",
              "    }\n",
              "\n",
              "    .colab-df-convert {\n",
              "      background-color: #E8F0FE;\n",
              "      border: none;\n",
              "      border-radius: 50%;\n",
              "      cursor: pointer;\n",
              "      display: none;\n",
              "      fill: #1967D2;\n",
              "      height: 32px;\n",
              "      padding: 0 0 0 0;\n",
              "      width: 32px;\n",
              "    }\n",
              "\n",
              "    .colab-df-convert:hover {\n",
              "      background-color: #E2EBFA;\n",
              "      box-shadow: 0px 1px 2px rgba(60, 64, 67, 0.3), 0px 1px 3px 1px rgba(60, 64, 67, 0.15);\n",
              "      fill: #174EA6;\n",
              "    }\n",
              "\n",
              "    [theme=dark] .colab-df-convert {\n",
              "      background-color: #3B4455;\n",
              "      fill: #D2E3FC;\n",
              "    }\n",
              "\n",
              "    [theme=dark] .colab-df-convert:hover {\n",
              "      background-color: #434B5C;\n",
              "      box-shadow: 0px 1px 3px 1px rgba(0, 0, 0, 0.15);\n",
              "      filter: drop-shadow(0px 1px 2px rgba(0, 0, 0, 0.3));\n",
              "      fill: #FFFFFF;\n",
              "    }\n",
              "  </style>\n",
              "\n",
              "      <script>\n",
              "        const buttonEl =\n",
              "          document.querySelector('#df-e863da16-fbb9-4c5e-99c0-6ab8d32d65dd button.colab-df-convert');\n",
              "        buttonEl.style.display =\n",
              "          google.colab.kernel.accessAllowed ? 'block' : 'none';\n",
              "\n",
              "        async function convertToInteractive(key) {\n",
              "          const element = document.querySelector('#df-e863da16-fbb9-4c5e-99c0-6ab8d32d65dd');\n",
              "          const dataTable =\n",
              "            await google.colab.kernel.invokeFunction('convertToInteractive',\n",
              "                                                     [key], {});\n",
              "          if (!dataTable) return;\n",
              "\n",
              "          const docLinkHtml = 'Like what you see? Visit the ' +\n",
              "            '<a target=\"_blank\" href=https://colab.research.google.com/notebooks/data_table.ipynb>data table notebook</a>'\n",
              "            + ' to learn more about interactive tables.';\n",
              "          element.innerHTML = '';\n",
              "          dataTable['output_type'] = 'display_data';\n",
              "          await google.colab.output.renderOutput(dataTable, element);\n",
              "          const docLink = document.createElement('div');\n",
              "          docLink.innerHTML = docLinkHtml;\n",
              "          element.appendChild(docLink);\n",
              "        }\n",
              "      </script>\n",
              "    </div>\n",
              "  </div>\n",
              "  "
            ],
            "text/plain": [
              "                 0\n",
              "Unnamed: 0       0\n",
              "count            0\n",
              "logged_in        0\n",
              "srv_serror_rate  0\n",
              "serror_rate      0\n",
              "...             ..\n",
              "Probe            0\n",
              "R2L              0\n",
              "U2R              0\n",
              "normal           0\n",
              "label            0\n",
              "\n",
              "[101 rows x 1 columns]"
            ]
          },
          "execution_count": 7,
          "metadata": {},
          "output_type": "execute_result"
        }
      ],
      "source": [
        "data.isnull().sum().to_frame()"
      ]
    },
    {
      "cell_type": "code",
      "execution_count": null,
      "metadata": {
        "colab": {
          "base_uri": "https://localhost:8080/",
          "height": 372
        },
        "id": "Jyo5DV9JWpdC",
        "outputId": "31e86333-a8c1-4c69-e3e5-7e8ca954d34f"
      },
      "outputs": [
        {
          "data": {
            "text/plain": [
              "<matplotlib.axes._subplots.AxesSubplot at 0x7f0c75b37ad0>"
            ]
          },
          "execution_count": 8,
          "metadata": {},
          "output_type": "execute_result"
        },
        {
          "data": {
            "image/png": "[encoded data removed]",
            "text/plain": [
              "<Figure size 432x288 with 1 Axes>"
            ]
          },
          "metadata": {},
          "output_type": "display_data"
        }
      ],
      "source": [
        "sns.heatmap(data.isnull(),yticklabels=False,cbar=False,cmap='viridis')"
      ]
    },
    {
      "cell_type": "markdown",
      "metadata": {
        "id": "ka2fE2AiVOtD"
      },
      "source": [
        "## **1 - Multi Layer Perceptron Classifier**"
      ]
    },
    {
      "cell_type": "code",
      "execution_count": null,
      "metadata": {
        "id": "b5WNd9IaTX-O"
      },
      "outputs": [],
      "source": [
        "from keras.layers import Dense # importing dense layer\n",
        "from keras.models import Sequential #importing Sequential layer\n",
        "from keras.models import model_from_json # saving and loading trained model"
      ]
    },
    {
      "cell_type": "code",
      "execution_count": null,
      "metadata": {
        "colab": {
          "base_uri": "https://localhost:8080/"
        },
        "id": "9QPlmbOxFOlB",
        "outputId": "3296126e-a561-43e8-8b2a-a9a54a9c52f9"
      },
      "outputs": [
        {
          "output_type": "execute_result",
          "data": {
            "text/plain": [
              "(125973, 101)"
            ]
          },
          "metadata": {},
          "execution_count": 6
        }
      ],
      "source": [
        "data.shape"
      ]
    },
    {
      "cell_type": "code",
      "execution_count": null,
      "metadata": {
        "id": "sDfQkLFeU6e5"
      },
      "outputs": [],
      "source": [
        "X = data.iloc[:,0:95]  # dataset excluding target attribute (encoded, one-hot-encoded,original)\n",
        "Y = data[['Dos','normal','Probe','R2L','U2R']] # target attributes"
      ]
    },
    {
      "cell_type": "code",
      "execution_count": null,
      "metadata": {
        "colab": {
          "base_uri": "https://localhost:8080/"
        },
        "id": "1rdRAxw4E6_6",
        "outputId": "14cb7dc4-f0fc-4dd8-d83a-13a9c13b806f"
      },
      "outputs": [
        {
          "output_type": "stream",
          "name": "stdout",
          "text": [
            "(125973, 95)\n",
            "(125973, 5)\n"
          ]
        }
      ],
      "source": [
        "print(X.shape)\n",
        "print(Y.shape)"
      ]
    },
    {
      "cell_type": "code",
      "execution_count": null,
      "metadata": {
        "id": "Tokddb1IU6iO"
      },
      "outputs": [],
      "source": [
        "# Preparing the data \n",
        "\n",
        "X_train, X_test, y_train, y_test = train_test_split(X,Y, test_size=0.25, random_state=42) # splitting the dataset 75% for training and 25% testing\n"
      ]
    },
    {
      "cell_type": "code",
      "execution_count": null,
      "metadata": {
        "colab": {
          "base_uri": "https://localhost:8080/"
        },
        "id": "prmz47x2E2lW",
        "outputId": "bbc798d9-cfd7-4f0d-afaa-932711bf9860"
      },
      "outputs": [
        {
          "output_type": "stream",
          "name": "stdout",
          "text": [
            "(94479, 95)\n",
            "(94479, 5)\n"
          ]
        }
      ],
      "source": [
        "print(X_train.shape)\n",
        "print(y_train.shape)"
      ]
    },
    {
      "cell_type": "code",
      "execution_count": null,
      "metadata": {
        "id": "lwR_oDtUU6k-"
      },
      "outputs": [],
      "source": [
        "mlp = Sequential() # initializing model\n",
        "# input layer and first layer with 50 neurons\n",
        "mlp.add(Dense(units=50, input_dim=X_train.shape[1], activation='relu'))\n",
        "# output layer with softmax activation\n",
        "mlp.add(Dense(units=5,activation='softmax'))"
      ]
    },
    {
      "cell_type": "code",
      "execution_count": null,
      "metadata": {
        "id": "2wXkzJOVVV5g"
      },
      "outputs": [],
      "source": [
        "# defining loss function, optimizer, metrics and then compiling model\n",
        "mlp.compile(loss='categorical_crossentropy', optimizer='adam', metrics=['accuracy'])"
      ]
    },
    {
      "cell_type": "code",
      "execution_count": null,
      "metadata": {
        "colab": {
          "base_uri": "https://localhost:8080/"
        },
        "id": "uN6o94gYVV_p",
        "outputId": "0cd9c09a-b7fb-42e3-ea60-0cfb93d28142"
      },
      "outputs": [
        {
          "output_type": "stream",
          "name": "stdout",
          "text": [
            "Model: \"sequential\"\n",
            "_________________________________________________________________\n",
            " Layer (type)                Output Shape              Param #   \n",
            "=================================================================\n",
            " dense (Dense)               (None, 50)                4800      \n",
            "                                                                 \n",
            " dense_1 (Dense)             (None, 5)                 255       \n",
            "                                                                 \n",
            "=================================================================\n",
            "Total params: 5,055\n",
            "Trainable params: 5,055\n",
            "Non-trainable params: 0\n",
            "_________________________________________________________________\n"
          ]
        }
      ],
      "source": [
        "# summary of model layers\n",
        "mlp.summary()"
      ]
    },
    {
      "cell_type": "code",
      "execution_count": null,
      "metadata": {
        "colab": {
          "base_uri": "https://localhost:8080/"
        },
        "id": "HX8nSslkVZeu",
        "outputId": "46d23132-ab23-4923-d1df-9c6d938ceab4"
      },
      "outputs": [
        {
          "output_type": "stream",
          "name": "stdout",
          "text": [
            "Epoch 1/100\n",
            "16/16 [==============================] - 1s 19ms/step - loss: 2590.3672 - accuracy: 0.4041 - val_loss: 1304.2592 - val_accuracy: 0.0899\n",
            "Epoch 2/100\n",
            "16/16 [==============================] - 0s 10ms/step - loss: 498.9052 - accuracy: 0.3677 - val_loss: 91.6488 - val_accuracy: 0.5409\n",
            "Epoch 3/100\n",
            "16/16 [==============================] - 0s 9ms/step - loss: 123.5262 - accuracy: 0.4483 - val_loss: 98.4220 - val_accuracy: 0.3743\n",
            "Epoch 4/100\n",
            "16/16 [==============================] - 0s 10ms/step - loss: 93.6121 - accuracy: 0.4065 - val_loss: 122.3791 - val_accuracy: 0.5409\n",
            "Epoch 5/100\n",
            "16/16 [==============================] - 0s 10ms/step - loss: 84.6285 - accuracy: 0.4660 - val_loss: 138.5852 - val_accuracy: 0.1003\n",
            "Epoch 6/100\n",
            "16/16 [==============================] - 0s 10ms/step - loss: 130.7272 - accuracy: 0.4416 - val_loss: 141.9890 - val_accuracy: 0.5437\n",
            "Epoch 7/100\n",
            "16/16 [==============================] - 0s 10ms/step - loss: 109.3173 - accuracy: 0.4375 - val_loss: 108.1056 - val_accuracy: 0.3792\n",
            "Epoch 8/100\n",
            "16/16 [==============================] - 0s 10ms/step - loss: 78.1479 - accuracy: 0.4821 - val_loss: 43.1279 - val_accuracy: 0.3967\n",
            "Epoch 9/100\n",
            "16/16 [==============================] - 0s 10ms/step - loss: 55.6103 - accuracy: 0.4435 - val_loss: 54.2183 - val_accuracy: 0.5577\n",
            "Epoch 10/100\n",
            "16/16 [==============================] - 0s 10ms/step - loss: 38.8308 - accuracy: 0.5028 - val_loss: 16.0916 - val_accuracy: 0.4824\n",
            "Epoch 11/100\n",
            "16/16 [==============================] - 0s 11ms/step - loss: 32.0761 - accuracy: 0.5205 - val_loss: 24.2365 - val_accuracy: 0.7214\n",
            "Epoch 12/100\n",
            "16/16 [==============================] - 0s 10ms/step - loss: 24.4560 - accuracy: 0.5639 - val_loss: 39.5261 - val_accuracy: 0.5544\n",
            "Epoch 13/100\n",
            "16/16 [==============================] - 0s 10ms/step - loss: 24.2906 - accuracy: 0.5611 - val_loss: 20.0395 - val_accuracy: 0.8395\n",
            "Epoch 14/100\n",
            "16/16 [==============================] - 0s 10ms/step - loss: 27.5092 - accuracy: 0.5485 - val_loss: 26.1251 - val_accuracy: 0.5963\n",
            "Epoch 15/100\n",
            "16/16 [==============================] - 0s 9ms/step - loss: 31.5582 - accuracy: 0.5418 - val_loss: 50.3302 - val_accuracy: 0.4137\n",
            "Epoch 16/100\n",
            "16/16 [==============================] - 0s 9ms/step - loss: 33.5656 - accuracy: 0.4981 - val_loss: 17.8700 - val_accuracy: 0.6224\n",
            "Epoch 17/100\n",
            "16/16 [==============================] - 0s 10ms/step - loss: 26.5397 - accuracy: 0.5422 - val_loss: 28.5107 - val_accuracy: 0.5800\n",
            "Epoch 18/100\n",
            "16/16 [==============================] - 0s 10ms/step - loss: 42.2818 - accuracy: 0.4900 - val_loss: 42.0535 - val_accuracy: 0.5797\n",
            "Epoch 19/100\n",
            "16/16 [==============================] - 0s 9ms/step - loss: 27.4611 - accuracy: 0.5947 - val_loss: 33.9256 - val_accuracy: 0.5867\n",
            "Epoch 20/100\n",
            "16/16 [==============================] - 0s 10ms/step - loss: 35.3143 - accuracy: 0.5479 - val_loss: 32.9699 - val_accuracy: 0.4805\n",
            "Epoch 21/100\n",
            "16/16 [==============================] - 0s 9ms/step - loss: 23.0682 - accuracy: 0.6289 - val_loss: 40.0147 - val_accuracy: 0.1733\n",
            "Epoch 22/100\n",
            "16/16 [==============================] - 0s 9ms/step - loss: 29.7489 - accuracy: 0.5855 - val_loss: 60.8828 - val_accuracy: 0.5600\n",
            "Epoch 23/100\n",
            "16/16 [==============================] - 0s 10ms/step - loss: 63.1800 - accuracy: 0.4731 - val_loss: 57.8994 - val_accuracy: 0.2727\n",
            "Epoch 24/100\n",
            "16/16 [==============================] - 0s 10ms/step - loss: 88.6865 - accuracy: 0.4775 - val_loss: 21.8906 - val_accuracy: 0.6606\n",
            "Epoch 25/100\n",
            "16/16 [==============================] - 0s 10ms/step - loss: 57.5138 - accuracy: 0.5528 - val_loss: 72.7286 - val_accuracy: 0.1582\n",
            "Epoch 26/100\n",
            "16/16 [==============================] - 0s 10ms/step - loss: 31.7177 - accuracy: 0.6084 - val_loss: 32.0711 - val_accuracy: 0.5877\n",
            "Epoch 27/100\n",
            "16/16 [==============================] - 0s 10ms/step - loss: 34.1777 - accuracy: 0.6242 - val_loss: 22.9643 - val_accuracy: 0.8503\n",
            "Epoch 28/100\n",
            "16/16 [==============================] - 0s 9ms/step - loss: 32.0613 - accuracy: 0.6400 - val_loss: 17.2163 - val_accuracy: 0.8749\n",
            "Epoch 29/100\n",
            "16/16 [==============================] - 0s 9ms/step - loss: 34.4655 - accuracy: 0.5735 - val_loss: 20.7051 - val_accuracy: 0.5902\n",
            "Epoch 30/100\n",
            "16/16 [==============================] - 0s 9ms/step - loss: 26.1439 - accuracy: 0.6228 - val_loss: 13.6455 - val_accuracy: 0.7504\n",
            "Epoch 31/100\n",
            "16/16 [==============================] - 0s 10ms/step - loss: 21.2767 - accuracy: 0.6274 - val_loss: 20.9388 - val_accuracy: 0.6415\n",
            "Epoch 32/100\n",
            "16/16 [==============================] - 0s 9ms/step - loss: 21.0531 - accuracy: 0.6664 - val_loss: 5.0479 - val_accuracy: 0.6784\n",
            "Epoch 33/100\n",
            "16/16 [==============================] - 0s 10ms/step - loss: 25.1435 - accuracy: 0.6474 - val_loss: 21.8737 - val_accuracy: 0.8047\n",
            "Epoch 34/100\n",
            "16/16 [==============================] - 0s 9ms/step - loss: 21.3827 - accuracy: 0.6543 - val_loss: 36.8264 - val_accuracy: 0.6229\n",
            "Epoch 35/100\n",
            "16/16 [==============================] - 0s 9ms/step - loss: 28.8390 - accuracy: 0.6604 - val_loss: 33.9560 - val_accuracy: 0.8221\n",
            "Epoch 36/100\n",
            "16/16 [==============================] - 0s 10ms/step - loss: 31.5655 - accuracy: 0.5850 - val_loss: 31.5373 - val_accuracy: 0.6232\n",
            "Epoch 37/100\n",
            "16/16 [==============================] - 0s 10ms/step - loss: 44.9061 - accuracy: 0.5633 - val_loss: 94.6850 - val_accuracy: 0.3964\n",
            "Epoch 38/100\n",
            "16/16 [==============================] - 0s 10ms/step - loss: 40.0996 - accuracy: 0.5642 - val_loss: 54.3262 - val_accuracy: 0.5867\n",
            "Epoch 39/100\n",
            "16/16 [==============================] - 0s 10ms/step - loss: 45.3170 - accuracy: 0.5993 - val_loss: 13.1280 - val_accuracy: 0.8793\n",
            "Epoch 40/100\n",
            "16/16 [==============================] - 0s 10ms/step - loss: 42.1816 - accuracy: 0.5813 - val_loss: 49.2304 - val_accuracy: 0.5911\n",
            "Epoch 41/100\n",
            "16/16 [==============================] - 0s 10ms/step - loss: 44.5521 - accuracy: 0.7336 - val_loss: 18.4492 - val_accuracy: 0.7771\n",
            "Epoch 42/100\n",
            "16/16 [==============================] - 0s 9ms/step - loss: 21.1702 - accuracy: 0.6776 - val_loss: 29.6067 - val_accuracy: 0.7709\n",
            "Epoch 43/100\n",
            "16/16 [==============================] - 0s 9ms/step - loss: 26.7980 - accuracy: 0.6726 - val_loss: 29.7154 - val_accuracy: 0.5010\n",
            "Epoch 44/100\n",
            "16/16 [==============================] - 0s 10ms/step - loss: 14.6328 - accuracy: 0.6899 - val_loss: 16.7713 - val_accuracy: 0.7257\n",
            "Epoch 45/100\n",
            "16/16 [==============================] - 0s 12ms/step - loss: 17.9236 - accuracy: 0.7928 - val_loss: 18.6486 - val_accuracy: 0.8762\n",
            "Epoch 46/100\n",
            "16/16 [==============================] - 0s 9ms/step - loss: 28.3002 - accuracy: 0.8266 - val_loss: 40.0595 - val_accuracy: 0.7601\n",
            "Epoch 47/100\n",
            "16/16 [==============================] - 0s 10ms/step - loss: 32.4990 - accuracy: 0.6779 - val_loss: 42.8987 - val_accuracy: 0.2570\n",
            "Epoch 48/100\n",
            "16/16 [==============================] - 0s 10ms/step - loss: 25.4286 - accuracy: 0.6854 - val_loss: 15.5520 - val_accuracy: 0.8823\n",
            "Epoch 49/100\n",
            "16/16 [==============================] - 0s 10ms/step - loss: 22.5703 - accuracy: 0.7060 - val_loss: 16.3271 - val_accuracy: 0.7555\n",
            "Epoch 50/100\n",
            "16/16 [==============================] - 0s 10ms/step - loss: 29.0721 - accuracy: 0.6320 - val_loss: 16.4286 - val_accuracy: 0.6756\n",
            "Epoch 51/100\n",
            "16/16 [==============================] - 0s 9ms/step - loss: 22.6279 - accuracy: 0.6477 - val_loss: 14.0070 - val_accuracy: 0.8388\n",
            "Epoch 52/100\n",
            "16/16 [==============================] - 0s 10ms/step - loss: 13.3533 - accuracy: 0.8128 - val_loss: 11.6806 - val_accuracy: 0.8422\n",
            "Epoch 53/100\n",
            "16/16 [==============================] - 0s 10ms/step - loss: 19.5202 - accuracy: 0.7908 - val_loss: 17.7597 - val_accuracy: 0.8830\n",
            "Epoch 54/100\n",
            "16/16 [==============================] - 0s 9ms/step - loss: 17.7594 - accuracy: 0.8323 - val_loss: 7.7738 - val_accuracy: 0.6285\n",
            "Epoch 55/100\n",
            "16/16 [==============================] - 0s 10ms/step - loss: 18.1725 - accuracy: 0.7306 - val_loss: 6.6339 - val_accuracy: 0.8693\n",
            "Epoch 56/100\n",
            "16/16 [==============================] - 0s 10ms/step - loss: 18.8537 - accuracy: 0.7315 - val_loss: 14.7389 - val_accuracy: 0.8439\n",
            "Epoch 57/100\n",
            "16/16 [==============================] - 0s 10ms/step - loss: 19.0094 - accuracy: 0.8007 - val_loss: 11.2770 - val_accuracy: 0.8310\n",
            "Epoch 58/100\n",
            "16/16 [==============================] - 0s 10ms/step - loss: 24.9321 - accuracy: 0.7031 - val_loss: 7.0046 - val_accuracy: 0.7896\n",
            "Epoch 59/100\n",
            "16/16 [==============================] - 0s 10ms/step - loss: 8.1206 - accuracy: 0.7434 - val_loss: 12.5463 - val_accuracy: 0.6714\n",
            "Epoch 60/100\n",
            "16/16 [==============================] - 0s 10ms/step - loss: 13.0164 - accuracy: 0.7644 - val_loss: 5.6462 - val_accuracy: 0.8818\n",
            "Epoch 61/100\n",
            "16/16 [==============================] - 0s 10ms/step - loss: 5.6906 - accuracy: 0.8484 - val_loss: 18.4186 - val_accuracy: 0.7789\n",
            "Epoch 62/100\n",
            "16/16 [==============================] - 0s 10ms/step - loss: 15.0528 - accuracy: 0.8252 - val_loss: 2.6555 - val_accuracy: 0.8980\n",
            "Epoch 63/100\n",
            "16/16 [==============================] - 0s 10ms/step - loss: 2.1812 - accuracy: 0.8936 - val_loss: 2.8340 - val_accuracy: 0.8172\n",
            "Epoch 64/100\n",
            "16/16 [==============================] - 0s 10ms/step - loss: 2.6747 - accuracy: 0.8748 - val_loss: 3.9834 - val_accuracy: 0.8897\n",
            "Epoch 65/100\n",
            "16/16 [==============================] - 0s 10ms/step - loss: 12.7016 - accuracy: 0.7861 - val_loss: 34.8532 - val_accuracy: 0.8846\n",
            "Epoch 66/100\n",
            "16/16 [==============================] - 0s 10ms/step - loss: 30.1041 - accuracy: 0.8179 - val_loss: 19.2970 - val_accuracy: 0.7090\n",
            "Epoch 67/100\n",
            "16/16 [==============================] - 0s 10ms/step - loss: 34.8808 - accuracy: 0.6560 - val_loss: 30.2327 - val_accuracy: 0.8794\n",
            "Epoch 68/100\n",
            "16/16 [==============================] - 0s 10ms/step - loss: 29.7395 - accuracy: 0.7327 - val_loss: 28.4197 - val_accuracy: 0.4442\n",
            "Epoch 69/100\n",
            "16/16 [==============================] - 0s 10ms/step - loss: 26.9821 - accuracy: 0.7095 - val_loss: 41.7701 - val_accuracy: 0.5499\n",
            "Epoch 70/100\n",
            "16/16 [==============================] - 0s 10ms/step - loss: 27.3618 - accuracy: 0.6972 - val_loss: 41.5271 - val_accuracy: 0.6088\n",
            "Epoch 71/100\n",
            "16/16 [==============================] - 0s 10ms/step - loss: 39.4830 - accuracy: 0.6015 - val_loss: 33.9589 - val_accuracy: 0.5119\n",
            "Epoch 72/100\n",
            "16/16 [==============================] - 0s 10ms/step - loss: 37.2937 - accuracy: 0.5728 - val_loss: 59.7980 - val_accuracy: 0.6713\n",
            "Epoch 73/100\n",
            "16/16 [==============================] - 0s 10ms/step - loss: 45.5195 - accuracy: 0.7107 - val_loss: 48.5473 - val_accuracy: 0.5947\n",
            "Epoch 74/100\n",
            "16/16 [==============================] - 0s 10ms/step - loss: 35.5112 - accuracy: 0.7083 - val_loss: 30.5531 - val_accuracy: 0.5133\n",
            "Epoch 75/100\n",
            "16/16 [==============================] - 0s 10ms/step - loss: 31.1994 - accuracy: 0.7382 - val_loss: 38.2331 - val_accuracy: 0.8305\n",
            "Epoch 76/100\n",
            "16/16 [==============================] - 0s 10ms/step - loss: 33.5936 - accuracy: 0.7461 - val_loss: 27.6241 - val_accuracy: 0.8658\n",
            "Epoch 77/100\n",
            "16/16 [==============================] - 0s 11ms/step - loss: 19.2842 - accuracy: 0.7699 - val_loss: 26.9015 - val_accuracy: 0.8068\n",
            "Epoch 78/100\n",
            "16/16 [==============================] - 0s 10ms/step - loss: 14.2891 - accuracy: 0.8417 - val_loss: 10.4300 - val_accuracy: 0.8686\n",
            "Epoch 79/100\n",
            "16/16 [==============================] - 0s 10ms/step - loss: 16.3493 - accuracy: 0.7409 - val_loss: 31.7801 - val_accuracy: 0.6289\n",
            "Epoch 80/100\n",
            "16/16 [==============================] - 0s 10ms/step - loss: 24.2248 - accuracy: 0.7614 - val_loss: 25.2276 - val_accuracy: 0.7350\n",
            "Epoch 81/100\n",
            "16/16 [==============================] - 0s 10ms/step - loss: 18.1250 - accuracy: 0.7626 - val_loss: 17.4690 - val_accuracy: 0.8746\n",
            "Epoch 82/100\n",
            "16/16 [==============================] - 0s 10ms/step - loss: 17.8119 - accuracy: 0.8337 - val_loss: 12.2396 - val_accuracy: 0.8718\n",
            "Epoch 83/100\n",
            "16/16 [==============================] - 0s 10ms/step - loss: 11.9027 - accuracy: 0.8135 - val_loss: 28.0610 - val_accuracy: 0.8509\n",
            "Epoch 84/100\n",
            "16/16 [==============================] - 0s 10ms/step - loss: 16.8212 - accuracy: 0.7858 - val_loss: 23.9346 - val_accuracy: 0.8799\n",
            "Epoch 85/100\n",
            "16/16 [==============================] - 0s 10ms/step - loss: 22.8112 - accuracy: 0.8212 - val_loss: 36.1961 - val_accuracy: 0.3435\n",
            "Epoch 86/100\n",
            "16/16 [==============================] - 0s 10ms/step - loss: 27.6077 - accuracy: 0.7965 - val_loss: 22.7254 - val_accuracy: 0.7773\n",
            "Epoch 87/100\n",
            "16/16 [==============================] - 0s 10ms/step - loss: 18.2214 - accuracy: 0.7940 - val_loss: 16.3569 - val_accuracy: 0.8794\n",
            "Epoch 88/100\n",
            "16/16 [==============================] - 0s 9ms/step - loss: 18.2903 - accuracy: 0.8040 - val_loss: 13.5853 - val_accuracy: 0.6364\n",
            "Epoch 89/100\n",
            "16/16 [==============================] - 0s 10ms/step - loss: 11.6006 - accuracy: 0.7317 - val_loss: 19.3459 - val_accuracy: 0.8348\n",
            "Epoch 90/100\n",
            "16/16 [==============================] - 0s 10ms/step - loss: 18.2477 - accuracy: 0.7920 - val_loss: 23.5161 - val_accuracy: 0.8806\n",
            "Epoch 91/100\n",
            "16/16 [==============================] - 0s 10ms/step - loss: 20.2706 - accuracy: 0.8215 - val_loss: 8.0229 - val_accuracy: 0.8801\n",
            "Epoch 92/100\n",
            "16/16 [==============================] - 0s 9ms/step - loss: 20.2095 - accuracy: 0.6885 - val_loss: 15.3871 - val_accuracy: 0.8735\n",
            "Epoch 93/100\n",
            "16/16 [==============================] - 0s 10ms/step - loss: 17.9767 - accuracy: 0.8116 - val_loss: 2.7071 - val_accuracy: 0.8887\n",
            "Epoch 94/100\n",
            "16/16 [==============================] - 0s 10ms/step - loss: 16.5667 - accuracy: 0.7490 - val_loss: 22.3228 - val_accuracy: 0.8863\n",
            "Epoch 95/100\n",
            "16/16 [==============================] - 0s 9ms/step - loss: 24.7941 - accuracy: 0.8393 - val_loss: 52.8176 - val_accuracy: 0.2793\n",
            "Epoch 96/100\n",
            "16/16 [==============================] - 0s 11ms/step - loss: 27.9226 - accuracy: 0.7182 - val_loss: 27.3699 - val_accuracy: 0.8281\n",
            "Epoch 97/100\n",
            "16/16 [==============================] - 0s 9ms/step - loss: 20.9314 - accuracy: 0.7421 - val_loss: 77.0679 - val_accuracy: 0.5854\n",
            "Epoch 98/100\n",
            "16/16 [==============================] - 0s 10ms/step - loss: 45.9076 - accuracy: 0.5850 - val_loss: 4.3001 - val_accuracy: 0.8962\n",
            "Epoch 99/100\n",
            "16/16 [==============================] - 0s 10ms/step - loss: 24.4308 - accuracy: 0.7196 - val_loss: 26.4987 - val_accuracy: 0.4920\n",
            "Epoch 100/100\n",
            "16/16 [==============================] - 0s 9ms/step - loss: 13.1640 - accuracy: 0.7746 - val_loss: 10.4395 - val_accuracy: 0.8693\n"
          ]
        }
      ],
      "source": [
        "# training the model on training dataset\n",
        "history = mlp.fit(X_train, y_train, epochs=100, batch_size=5000,validation_split=0.2)"
      ]
    },
    {
      "cell_type": "code",
      "execution_count": null,
      "metadata": {
        "id": "VEbGNy2WVhiM"
      },
      "outputs": [],
      "source": [
        "# defining loss function, optimizer, metrics and then compiling model\n",
        "mlp.compile(loss='categorical_crossentropy', optimizer='adam', metrics=['accuracy'])"
      ]
    },
    {
      "cell_type": "code",
      "execution_count": null,
      "metadata": {
        "colab": {
          "base_uri": "https://localhost:8080/"
        },
        "id": "XVVcfJvKVhk-",
        "outputId": "75759c79-f067-4d6a-d5ae-3fdea7188e8d"
      },
      "outputs": [
        {
          "output_type": "stream",
          "name": "stdout",
          "text": [
            "985/985 [==============================] - 1s 849us/step - loss: 11.1513 - accuracy: 0.8675\n",
            "Test results - Loss: 11.1513090133667 - Accuracy: 86.7530345916748%\n"
          ]
        }
      ],
      "source": [
        "# predicting target attribute on testing dataset\n",
        "test_results = mlp.evaluate(X_test, y_test, verbose=1)\n",
        "print(f'Test results - Loss: {test_results[0]} - Accuracy: {test_results[1]*100}%')"
      ]
    },
    {
      "cell_type": "code",
      "execution_count": null,
      "metadata": {
        "colab": {
          "base_uri": "https://localhost:8080/",
          "height": 295
        },
        "id": "NJ0OBgLqVlXH",
        "outputId": "8da78217-e382-46d9-88af-00e09e9dd528"
      },
      "outputs": [
        {
          "output_type": "display_data",
          "data": {
            "text/plain": [
              "<Figure size 432x288 with 1 Axes>"
            ],
            "image/png": "[encoded data removed]"
          },
          "metadata": {
            "needs_background": "light"
          }
        }
      ],
      "source": [
        "# Plot of accuracy vs epoch for train and test dataset\n",
        "plt.plot(history.history['accuracy'])\n",
        "plt.plot(history.history['val_accuracy'])\n",
        "plt.title(\"Plot of accuracy vs epoch for train and test dataset\")\n",
        "plt.ylabel('accuracy')\n",
        "plt.xlabel('epoch')\n",
        "plt.legend(['train', 'test'], loc='best')\n",
        "plt.savefig('/mlp_multi_accuracy.png')\n",
        "plt.show()"
      ]
    },
    {
      "cell_type": "code",
      "execution_count": null,
      "metadata": {
        "colab": {
          "base_uri": "https://localhost:8080/",
          "height": 295
        },
        "id": "Mz8PLP15Vlc_",
        "outputId": "427be48c-9efa-48b1-ee30-5776ef711173"
      },
      "outputs": [
        {
          "output_type": "display_data",
          "data": {
            "text/plain": [
              "<Figure size 432x288 with 1 Axes>"
            ],
            "image/png": "[encoded data removed]"
          },
          "metadata": {
            "needs_background": "light"
          }
        }
      ],
      "source": [
        "# Plot of loss vs epoch for train and test dataset\n",
        "plt.plot(history.history['loss'])\n",
        "plt.plot(history.history['val_loss'])\n",
        "plt.title(\"Plot of loss vs epoch for train and test dataset\")\n",
        "plt.ylabel('loss')\n",
        "plt.xlabel('epoch')\n",
        "plt.legend(['train', 'test'], loc='upper right')\n",
        "plt.savefig('/mlp_multi_loss.png')\n",
        "plt.show()"
      ]
    },
    {
      "cell_type": "markdown",
      "metadata": {
        "id": "X7QqTBg3Xh1S"
      },
      "source": [
        "# **2 -  Support Vector Machine Classifier**"
      ]
    },
    {
      "cell_type": "code",
      "execution_count": null,
      "metadata": {
        "id": "dR3NceFts4jh"
      },
      "outputs": [],
      "source": [
        "from sklearn.preprocessing import LabelEncoder\n",
        "\n",
        "db = data[\"label\"].to_frame()\n",
        "le = LabelEncoder()\n",
        "encoded_series = db.apply(le.fit_transform)"
      ]
    },
    {
      "cell_type": "code",
      "execution_count": null,
      "metadata": {
        "id": "s0BcK5PPGNJS"
      },
      "outputs": [],
      "source": [
        "# Preparing the data \n",
        "\n",
        "\n",
        "X = data.iloc[:,1:85]  # dataset excluding target attribute (encoded, one-hot-encoded,original)\n",
        "Y = encoded_series[\"label\"] # target attributes"
      ]
    },
    {
      "cell_type": "code",
      "source": [
        "# apply the min-max scaling in Pandas using the .min() and .max() methods\n",
        "\n",
        "def min_max_scaling(df):\n",
        "  \n",
        "    df_norm = df.copy()\n",
        "    \n",
        "    for column in df_norm.columns:\n",
        "        df_norm[column] = (df_norm[column] - df_norm[column].min()) / (df_norm[column].max() - df_norm[column].min())\n",
        "        \n",
        "    return df_norm\n",
        "    \n",
        "# calling the min_max_scaling function\n",
        "\n",
        "X = min_max_scaling(X)\n",
        "\n",
        "X.head()"
      ],
      "metadata": {
        "colab": {
          "base_uri": "https://localhost:8080/",
          "height": 300
        },
        "id": "fo7ygYyM4HxJ",
        "outputId": "fe9964b0-5edb-4896-b682-39b28e76a119"
      },
      "execution_count": null,
      "outputs": [
        {
          "output_type": "execute_result",
          "data": {
            "text/plain": [
              "      count  logged_in  srv_serror_rate  serror_rate  dst_host_serror_rate  \\\n",
              "0  0.003914        0.0              0.0          0.0                  0.00   \n",
              "1  0.025440        0.0              0.0          0.0                  0.00   \n",
              "2  0.240705        0.0              1.0          1.0                  1.00   \n",
              "3  0.009785        1.0              0.2          0.2                  0.03   \n",
              "4  0.058708        1.0              0.0          0.0                  0.00   \n",
              "\n",
              "   dst_host_same_srv_rate  dst_host_srv_serror_rate  dst_host_srv_count  \\\n",
              "0                    0.17                      0.00            0.098039   \n",
              "1                    0.00                      0.00            0.003922   \n",
              "2                    0.10                      1.00            0.101961   \n",
              "3                    1.00                      0.01            1.000000   \n",
              "4                    1.00                      0.00            1.000000   \n",
              "\n",
              "   same_srv_rate  protocol_type_icmp  ...  service_tim_i  service_time  \\\n",
              "0           1.00                 0.0  ...            0.0           0.0   \n",
              "1           0.08                 0.0  ...            0.0           0.0   \n",
              "2           0.05                 0.0  ...            0.0           0.0   \n",
              "3           1.00                 0.0  ...            0.0           0.0   \n",
              "4           1.00                 0.0  ...            0.0           0.0   \n",
              "\n",
              "   service_urh_i  service_urp_i  service_uucp  service_uucp_path  \\\n",
              "0            0.0            0.0           0.0                0.0   \n",
              "1            0.0            0.0           0.0                0.0   \n",
              "2            0.0            0.0           0.0                0.0   \n",
              "3            0.0            0.0           0.0                0.0   \n",
              "4            0.0            0.0           0.0                0.0   \n",
              "\n",
              "   service_vmnet  service_whois  flag_OTH  flag_REJ  \n",
              "0            0.0            0.0       0.0       0.0  \n",
              "1            0.0            0.0       0.0       0.0  \n",
              "2            0.0            0.0       0.0       0.0  \n",
              "3            0.0            0.0       0.0       0.0  \n",
              "4            0.0            0.0       0.0       0.0  \n",
              "\n",
              "[5 rows x 84 columns]"
            ],
            "text/html": [
              "\n",
              "  <div id=\"df-46e6d271-2414-481a-a241-f4fc7add0bb9\">\n",
              "    <div class=\"colab-df-container\">\n",
              "      <div>\n",
              "<style scoped>\n",
              "    .dataframe tbody tr th:only-of-type {\n",
              "        vertical-align: middle;\n",
              "    }\n",
              "\n",
              "    .dataframe tbody tr th {\n",
              "        vertical-align: top;\n",
              "    }\n",
              "\n",
              "    .dataframe thead th {\n",
              "        text-align: right;\n",
              "    }\n",
              "</style>\n",
              "<table border=\"1\" class=\"dataframe\">\n",
              "  <thead>\n",
              "    <tr style=\"text-align: right;\">\n",
              "      <th></th>\n",
              "      <th>count</th>\n",
              "      <th>logged_in</th>\n",
              "      <th>srv_serror_rate</th>\n",
              "      <th>serror_rate</th>\n",
              "      <th>dst_host_serror_rate</th>\n",
              "      <th>dst_host_same_srv_rate</th>\n",
              "      <th>dst_host_srv_serror_rate</th>\n",
              "      <th>dst_host_srv_count</th>\n",
              "      <th>same_srv_rate</th>\n",
              "      <th>protocol_type_icmp</th>\n",
              "      <th>...</th>\n",
              "      <th>service_tim_i</th>\n",
              "      <th>service_time</th>\n",
              "      <th>service_urh_i</th>\n",
              "      <th>service_urp_i</th>\n",
              "      <th>service_uucp</th>\n",
              "      <th>service_uucp_path</th>\n",
              "      <th>service_vmnet</th>\n",
              "      <th>service_whois</th>\n",
              "      <th>flag_OTH</th>\n",
              "      <th>flag_REJ</th>\n",
              "    </tr>\n",
              "  </thead>\n",
              "  <tbody>\n",
              "    <tr>\n",
              "      <th>0</th>\n",
              "      <td>0.003914</td>\n",
              "      <td>0.0</td>\n",
              "      <td>0.0</td>\n",
              "      <td>0.0</td>\n",
              "      <td>0.00</td>\n",
              "      <td>0.17</td>\n",
              "      <td>0.00</td>\n",
              "      <td>0.098039</td>\n",
              "      <td>1.00</td>\n",
              "      <td>0.0</td>\n",
              "      <td>...</td>\n",
              "      <td>0.0</td>\n",
              "      <td>0.0</td>\n",
              "      <td>0.0</td>\n",
              "      <td>0.0</td>\n",
              "      <td>0.0</td>\n",
              "      <td>0.0</td>\n",
              "      <td>0.0</td>\n",
              "      <td>0.0</td>\n",
              "      <td>0.0</td>\n",
              "      <td>0.0</td>\n",
              "    </tr>\n",
              "    <tr>\n",
              "      <th>1</th>\n",
              "      <td>0.025440</td>\n",
              "      <td>0.0</td>\n",
              "      <td>0.0</td>\n",
              "      <td>0.0</td>\n",
              "      <td>0.00</td>\n",
              "      <td>0.00</td>\n",
              "      <td>0.00</td>\n",
              "      <td>0.003922</td>\n",
              "      <td>0.08</td>\n",
              "      <td>0.0</td>\n",
              "      <td>...</td>\n",
              "      <td>0.0</td>\n",
              "      <td>0.0</td>\n",
              "      <td>0.0</td>\n",
              "      <td>0.0</td>\n",
              "      <td>0.0</td>\n",
              "      <td>0.0</td>\n",
              "      <td>0.0</td>\n",
              "      <td>0.0</td>\n",
              "      <td>0.0</td>\n",
              "      <td>0.0</td>\n",
              "    </tr>\n",
              "    <tr>\n",
              "      <th>2</th>\n",
              "      <td>0.240705</td>\n",
              "      <td>0.0</td>\n",
              "      <td>1.0</td>\n",
              "      <td>1.0</td>\n",
              "      <td>1.00</td>\n",
              "      <td>0.10</td>\n",
              "      <td>1.00</td>\n",
              "      <td>0.101961</td>\n",
              "      <td>0.05</td>\n",
              "      <td>0.0</td>\n",
              "      <td>...</td>\n",
              "      <td>0.0</td>\n",
              "      <td>0.0</td>\n",
              "      <td>0.0</td>\n",
              "      <td>0.0</td>\n",
              "      <td>0.0</td>\n",
              "      <td>0.0</td>\n",
              "      <td>0.0</td>\n",
              "      <td>0.0</td>\n",
              "      <td>0.0</td>\n",
              "      <td>0.0</td>\n",
              "    </tr>\n",
              "    <tr>\n",
              "      <th>3</th>\n",
              "      <td>0.009785</td>\n",
              "      <td>1.0</td>\n",
              "      <td>0.2</td>\n",
              "      <td>0.2</td>\n",
              "      <td>0.03</td>\n",
              "      <td>1.00</td>\n",
              "      <td>0.01</td>\n",
              "      <td>1.000000</td>\n",
              "      <td>1.00</td>\n",
              "      <td>0.0</td>\n",
              "      <td>...</td>\n",
              "      <td>0.0</td>\n",
              "      <td>0.0</td>\n",
              "      <td>0.0</td>\n",
              "      <td>0.0</td>\n",
              "      <td>0.0</td>\n",
              "      <td>0.0</td>\n",
              "      <td>0.0</td>\n",
              "      <td>0.0</td>\n",
              "      <td>0.0</td>\n",
              "      <td>0.0</td>\n",
              "    </tr>\n",
              "    <tr>\n",
              "      <th>4</th>\n",
              "      <td>0.058708</td>\n",
              "      <td>1.0</td>\n",
              "      <td>0.0</td>\n",
              "      <td>0.0</td>\n",
              "      <td>0.00</td>\n",
              "      <td>1.00</td>\n",
              "      <td>0.00</td>\n",
              "      <td>1.000000</td>\n",
              "      <td>1.00</td>\n",
              "      <td>0.0</td>\n",
              "      <td>...</td>\n",
              "      <td>0.0</td>\n",
              "      <td>0.0</td>\n",
              "      <td>0.0</td>\n",
              "      <td>0.0</td>\n",
              "      <td>0.0</td>\n",
              "      <td>0.0</td>\n",
              "      <td>0.0</td>\n",
              "      <td>0.0</td>\n",
              "      <td>0.0</td>\n",
              "      <td>0.0</td>\n",
              "    </tr>\n",
              "  </tbody>\n",
              "</table>\n",
              "<p>5 rows × 84 columns</p>\n",
              "</div>\n",
              "      <button class=\"colab-df-convert\" onclick=\"convertToInteractive('df-46e6d271-2414-481a-a241-f4fc7add0bb9')\"\n",
              "              title=\"Convert this dataframe to an interactive table.\"\n",
              "              style=\"display:none;\">\n",
              "        \n",
              "  <svg xmlns=\"http://www.w3.org/2000/svg\" height=\"24px\"viewBox=\"0 0 24 24\"\n",
              "       width=\"24px\">\n",
              "    <path d=\"M0 0h24v24H0V0z\" fill=\"none\"/>\n",
              "    <path d=\"M18.56 5.44l.94 2.06.94-2.06 2.06-.94-2.06-.94-.94-2.06-.94 2.06-2.06.94zm-11 1L8.5 8.5l.94-2.06 2.06-.94-2.06-.94L8.5 2.5l-.94 2.06-2.06.94zm10 10l.94 2.06.94-2.06 2.06-.94-2.06-.94-.94-2.06-.94 2.06-2.06.94z\"/><path d=\"M17.41 7.96l-1.37-1.37c-.4-.4-.92-.59-1.43-.59-.52 0-1.04.2-1.43.59L10.3 9.45l-7.72 7.72c-.78.78-.78 2.05 0 2.83L4 21.41c.39.39.9.59 1.41.59.51 0 1.02-.2 1.41-.59l7.78-7.78 2.81-2.81c.8-.78.8-2.07 0-2.86zM5.41 20L4 18.59l7.72-7.72 1.47 1.35L5.41 20z\"/>\n",
              "  </svg>\n",
              "      </button>\n",
              "      \n",
              "  <style>\n",
              "    .colab-df-container {\n",
              "      display:flex;\n",
              "      flex-wrap:wrap;\n",
              "      gap: 12px;\n",
              "    }\n",
              "\n",
              "    .colab-df-convert {\n",
              "      background-color: #E8F0FE;\n",
              "      border: none;\n",
              "      border-radius: 50%;\n",
              "      cursor: pointer;\n",
              "      display: none;\n",
              "      fill: #1967D2;\n",
              "      height: 32px;\n",
              "      padding: 0 0 0 0;\n",
              "      width: 32px;\n",
              "    }\n",
              "\n",
              "    .colab-df-convert:hover {\n",
              "      background-color: #E2EBFA;\n",
              "      box-shadow: 0px 1px 2px rgba(60, 64, 67, 0.3), 0px 1px 3px 1px rgba(60, 64, 67, 0.15);\n",
              "      fill: #174EA6;\n",
              "    }\n",
              "\n",
              "    [theme=dark] .colab-df-convert {\n",
              "      background-color: #3B4455;\n",
              "      fill: #D2E3FC;\n",
              "    }\n",
              "\n",
              "    [theme=dark] .colab-df-convert:hover {\n",
              "      background-color: #434B5C;\n",
              "      box-shadow: 0px 1px 3px 1px rgba(0, 0, 0, 0.15);\n",
              "      filter: drop-shadow(0px 1px 2px rgba(0, 0, 0, 0.3));\n",
              "      fill: #FFFFFF;\n",
              "    }\n",
              "  </style>\n",
              "\n",
              "      <script>\n",
              "        const buttonEl =\n",
              "          document.querySelector('#df-46e6d271-2414-481a-a241-f4fc7add0bb9 button.colab-df-convert');\n",
              "        buttonEl.style.display =\n",
              "          google.colab.kernel.accessAllowed ? 'block' : 'none';\n",
              "\n",
              "        async function convertToInteractive(key) {\n",
              "          const element = document.querySelector('#df-46e6d271-2414-481a-a241-f4fc7add0bb9');\n",
              "          const dataTable =\n",
              "            await google.colab.kernel.invokeFunction('convertToInteractive',\n",
              "                                                     [key], {});\n",
              "          if (!dataTable) return;\n",
              "\n",
              "          const docLinkHtml = 'Like what you see? Visit the ' +\n",
              "            '<a target=\"_blank\" href=https://colab.research.google.com/notebooks/data_table.ipynb>data table notebook</a>'\n",
              "            + ' to learn more about interactive tables.';\n",
              "          element.innerHTML = '';\n",
              "          dataTable['output_type'] = 'display_data';\n",
              "          await google.colab.output.renderOutput(dataTable, element);\n",
              "          const docLink = document.createElement('div');\n",
              "          docLink.innerHTML = docLinkHtml;\n",
              "          element.appendChild(docLink);\n",
              "        }\n",
              "      </script>\n",
              "    </div>\n",
              "  </div>\n",
              "  "
            ]
          },
          "metadata": {},
          "execution_count": 12
        }
      ]
    },
    {
      "cell_type": "code",
      "execution_count": null,
      "metadata": {
        "id": "EsnN_e-CGW2C"
      },
      "outputs": [],
      "source": [
        "X_train, X_test, y_train, y_test = train_test_split(X,Y, test_size=0.25, random_state=42) # splitting the dataset 75% for training and 25% testing"
      ]
    },
    {
      "cell_type": "code",
      "execution_count": null,
      "metadata": {
        "colab": {
          "base_uri": "https://localhost:8080/"
        },
        "id": "V4NpuolEVliT",
        "outputId": "e25b15d8-c67a-4913-dfca-e3d7a13ed055"
      },
      "outputs": [
        {
          "output_type": "execute_result",
          "data": {
            "text/plain": [
              "SVC(kernel='linear')"
            ]
          },
          "metadata": {},
          "execution_count": 22
        }
      ],
      "source": [
        "# SVM model creation\n",
        "\n",
        "\n",
        "\n",
        "\n",
        "svclassifier = SVC(\n",
        "    kernel='linear'\n",
        "    ) \n",
        "\n",
        "svclassifier.fit(X_train, y_train)  # training model on training dataset"
      ]
    },
    {
      "cell_type": "code",
      "execution_count": null,
      "metadata": {
        "id": "wsDNM9u8t5ks",
        "colab": {
          "base_uri": "https://localhost:8080/"
        },
        "outputId": "61d065f0-b583-48e6-d710-4936829789b0"
      },
      "outputs": [
        {
          "output_type": "stream",
          "name": "stdout",
          "text": [
            "Support vector Classifier accuracy is 94.58309519273513\n"
          ]
        }
      ],
      "source": [
        "y_pred = svclassifier.predict(X_test)\n",
        "ac = accuracy_score(y_test, y_pred)*100\n",
        "\n",
        "print(\"Support vector Classifier accuracy is\", ac)"
      ]
    },
    {
      "cell_type": "code",
      "execution_count": null,
      "metadata": {
        "id": "qmD28ofqt7lh",
        "colab": {
          "base_uri": "https://localhost:8080/"
        },
        "outputId": "7d384d85-d107-4dcc-a45b-0f4df739e624"
      },
      "outputs": [
        {
          "output_type": "stream",
          "name": "stdout",
          "text": [
            "              precision    recall  f1-score   support\n",
            "\n",
            "           0       0.95      0.96      0.95     11484\n",
            "           1       0.85      0.78      0.81      2947\n",
            "           2       0.43      0.01      0.02       274\n",
            "           3       0.00      0.00      0.00        15\n",
            "           4       0.96      0.98      0.97     16774\n",
            "\n",
            "    accuracy                           0.95     31494\n",
            "   macro avg       0.64      0.55      0.55     31494\n",
            "weighted avg       0.94      0.95      0.94     31494\n",
            "\n"
          ]
        },
        {
          "output_type": "stream",
          "name": "stderr",
          "text": [
            "/usr/local/lib/python3.7/dist-packages/sklearn/metrics/_classification.py:1318: UndefinedMetricWarning: Precision and F-score are ill-defined and being set to 0.0 in labels with no predicted samples. Use `zero_division` parameter to control this behavior.\n",
            "  _warn_prf(average, modifier, msg_start, len(result))\n",
            "/usr/local/lib/python3.7/dist-packages/sklearn/metrics/_classification.py:1318: UndefinedMetricWarning: Precision and F-score are ill-defined and being set to 0.0 in labels with no predicted samples. Use `zero_division` parameter to control this behavior.\n",
            "  _warn_prf(average, modifier, msg_start, len(result))\n",
            "/usr/local/lib/python3.7/dist-packages/sklearn/metrics/_classification.py:1318: UndefinedMetricWarning: Precision and F-score are ill-defined and being set to 0.0 in labels with no predicted samples. Use `zero_division` parameter to control this behavior.\n",
            "  _warn_prf(average, modifier, msg_start, len(result))\n"
          ]
        }
      ],
      "source": [
        "print(classification_report(y_test,y_pred))"
      ]
    },
    {
      "cell_type": "code",
      "source": [
        "# confusion matrix\n",
        "\n",
        "cm = confusion_matrix(y_pred, y_test)\n",
        "cm"
      ],
      "metadata": {
        "colab": {
          "base_uri": "https://localhost:8080/"
        },
        "id": "x06MYrvMDiX3",
        "outputId": "374bacab-7bf2-4b99-b45b-ecf6f741e7a3"
      },
      "execution_count": null,
      "outputs": [
        {
          "output_type": "execute_result",
          "data": {
            "text/plain": [
              "array([[10985,   498,     0,     0,    87],\n",
              "       [  236,  2291,     0,     0,   174],\n",
              "       [    0,     0,     3,     0,     4],\n",
              "       [    0,     0,     0,     0,     0],\n",
              "       [  263,   158,   271,    15, 16509]])"
            ]
          },
          "metadata": {},
          "execution_count": 31
        }
      ]
    },
    {
      "cell_type": "markdown",
      "metadata": {
        "id": "Wfc_o3Sqzvdm"
      },
      "source": [
        "## Validation curve - SVM"
      ]
    },
    {
      "cell_type": "code",
      "execution_count": null,
      "metadata": {
        "id": "vMrLPQSVwbMw",
        "colab": {
          "base_uri": "https://localhost:8080/",
          "height": 393
        },
        "outputId": "2d0e7234-611e-4d20-8f05-4dfb89f80179"
      },
      "outputs": [
        {
          "output_type": "display_data",
          "data": {
            "text/plain": [
              "<Figure size 576x396 with 1 Axes>"
            ],
            "image/png": "[encoded data removed]"
          },
          "metadata": {}
        },
        {
          "output_type": "execute_result",
          "data": {
            "text/plain": [
              "<matplotlib.axes._subplots.AxesSubplot at 0x7f85480d9850>"
            ]
          },
          "metadata": {},
          "execution_count": 12
        }
      ],
      "source": [
        "# from sklearn.model_selection import validation_curve\n",
        "from yellowbrick.model_selection import validation_curve \n",
        "\n",
        "\n",
        "# Plot the validation curve\n",
        "viz = validation_curve(svclassifier, X_train, y_train, param_name=\"gamma\",\n",
        "                      param_range=np.arange(8, 10), scoring=\"accuracy\")\n",
        "\n",
        "# Fit and show the visualizer\n",
        "viz.fit(X_train, y_train)        \n",
        "viz.score(X_test, y_test)\n",
        "viz.show()"
      ]
    },
    {
      "cell_type": "markdown",
      "metadata": {
        "id": "R9ATkAeTfZMs"
      },
      "source": [
        "## Learning curve - SVM"
      ]
    },
    {
      "cell_type": "code",
      "execution_count": null,
      "metadata": {
        "colab": {
          "base_uri": "https://localhost:8080/",
          "height": 376
        },
        "id": "3E29Xy7OfYds",
        "outputId": "81c5a87d-7e87-45ab-bf80-4dd6a3bc1588"
      },
      "outputs": [
        {
          "output_type": "display_data",
          "data": {
            "text/plain": [
              "<Figure size 576x396 with 1 Axes>"
            ],
            "image/png": "[encoded data removed]"
          },
          "metadata": {}
        }
      ],
      "source": [
        "from sklearn.model_selection import learning_curve\n",
        "from sklearn.model_selection import ShuffleSplit\n",
        "\n",
        "\n",
        "def plot_learning_curve(estimator, title, X_train, y_train, ylim=None, cv=None,\n",
        "                        n_jobs=None, train_sizes=np.linspace(.1, 1.0, 5)):\n",
        "    \n",
        "    plt.figure()\n",
        "    plt.title(title)\n",
        "    if ylim is not None:\n",
        "        plt.ylim(*ylim)\n",
        "    plt.xlabel(\"Training examples\")\n",
        "    plt.ylabel(\"Score\")\n",
        "    train_sizes, train_scores, test_scores = learning_curve(\n",
        "        estimator, X_train, y_train, cv=cv, n_jobs=n_jobs, train_sizes=train_sizes)\n",
        "    train_scores_mean = np.mean(train_scores, axis=1)\n",
        "    train_scores_std = np.std(train_scores, axis=1)\n",
        "    test_scores_mean = np.mean(test_scores, axis=1)\n",
        "    test_scores_std = np.std(test_scores, axis=1)\n",
        "    plt.grid()\n",
        "\n",
        "    plt.fill_between(train_sizes, train_scores_mean - train_scores_std,\n",
        "                     train_scores_mean + train_scores_std, alpha=0.1,\n",
        "                     color=\"r\")\n",
        "    plt.fill_between(train_sizes, test_scores_mean - test_scores_std,\n",
        "                     test_scores_mean + test_scores_std, alpha=0.1, color=\"g\")\n",
        "    plt.plot(train_sizes, train_scores_mean, 'o-', color=\"r\",\n",
        "             label=\"Training score\")\n",
        "    plt.plot(train_sizes, test_scores_mean, 'o-', color=\"g\",\n",
        "             label=\"Cross-validation score\")\n",
        "\n",
        "    plt.legend(loc=\"best\")\n",
        "    return plt\n",
        "\n",
        "\n",
        "\n",
        "\n",
        "\n",
        "\n",
        "title = \"Learning Curves (SVC - kernel='linear')\"\n",
        "\n",
        "cv = ShuffleSplit(n_splits=10, test_size=0.2, random_state=0)\n",
        "estimator = SVC(kernel='linear')\n",
        "plot_learning_curve(estimator, title, X_train, y_train, (0.7, 1), cv=cv)\n",
        "\n",
        "plt.show()"
      ]
    },
    {
      "cell_type": "code",
      "source": [
        "from yellowbrick.classifier import ROCAUC\n",
        "\n",
        "   \n",
        "visualizer = ROCAUC(svclassifier, classes=['normal', 'Dos', 'R2L', 'Probe', 'U2R'])\n",
        "\n",
        "visualizer.fit(X_train, y_train)        # Fit the training data to the visualizer\n",
        "visualizer.score(X_test, y_test)        # Evaluate the model on the test data\n",
        "visualizer.show()                       # Finalize and render the figure"
      ],
      "metadata": {
        "colab": {
          "base_uri": "https://localhost:8080/",
          "height": 428
        },
        "id": "xFMcyuq-GafW",
        "outputId": "e76f7bfd-54b4-4c63-a2ec-0f2a55117c94"
      },
      "execution_count": null,
      "outputs": [
        {
          "output_type": "stream",
          "name": "stderr",
          "text": [
            "/usr/local/lib/python3.7/dist-packages/sklearn/base.py:451: UserWarning: X does not have valid feature names, but SVC was fitted with feature names\n",
            "  \"X does not have valid feature names, but\"\n"
          ]
        },
        {
          "output_type": "display_data",
          "data": {
            "text/plain": [
              "<Figure size 576x396 with 1 Axes>"
            ],
            "image/png": "[encoded data removed]"
          },
          "metadata": {}
        },
        {
          "output_type": "execute_result",
          "data": {
            "text/plain": [
              "<matplotlib.axes._subplots.AxesSubplot at 0x7efce6326bd0>"
            ]
          },
          "metadata": {},
          "execution_count": 42
        }
      ]
    },
    {
      "cell_type": "markdown",
      "metadata": {
        "id": "80Avo19nYMsY"
      },
      "source": [
        "# **3 - Random Forest Classifier**"
      ]
    },
    {
      "cell_type": "code",
      "execution_count": null,
      "metadata": {
        "colab": {
          "base_uri": "https://localhost:8080/"
        },
        "id": "suxV5lsrXlqq",
        "outputId": "4d311693-b755-4d52-ce8b-e88377975e75"
      },
      "outputs": [
        {
          "output_type": "execute_result",
          "data": {
            "text/plain": [
              "RandomForestClassifier(max_depth=8, random_state=2)"
            ]
          },
          "metadata": {},
          "execution_count": 43
        }
      ],
      "source": [
        "# random forest model creation\n",
        "rfc = RandomForestClassifier(\n",
        "    random_state = 2, n_estimators = 100, max_depth = 8\n",
        ")\n",
        "rfc.fit(X_train,y_train)"
      ]
    },
    {
      "cell_type": "code",
      "execution_count": null,
      "metadata": {
        "colab": {
          "base_uri": "https://localhost:8080/"
        },
        "id": "Ziqjwxx_IGg7",
        "outputId": "f244c8f0-b6d1-435d-995e-b523e796e687"
      },
      "outputs": [
        {
          "output_type": "stream",
          "name": "stdout",
          "text": [
            "Random Forest Classifier accuracy is  96.9994284625643\n"
          ]
        }
      ],
      "source": [
        "rfc_predict = rfc.predict(X_test)\n",
        "\n",
        "ac = accuracy_score(y_test, rfc_predict)*100\n",
        "\n",
        "print(\"Random Forest Classifier accuracy is \", ac)"
      ]
    },
    {
      "cell_type": "code",
      "execution_count": null,
      "metadata": {
        "colab": {
          "base_uri": "https://localhost:8080/"
        },
        "id": "pgj2NlrcIGjm",
        "outputId": "24fbd4c5-04ee-4cee-ee13-4acf210721af"
      },
      "outputs": [
        {
          "output_type": "stream",
          "name": "stdout",
          "text": [
            "              precision    recall  f1-score   support\n",
            "\n",
            "           0       0.99      0.97      0.98     11484\n",
            "           1       0.96      0.90      0.93      2947\n",
            "           2       0.00      0.00      0.00       274\n",
            "           3       0.00      0.00      0.00        15\n",
            "           4       0.96      1.00      0.98     16774\n",
            "\n",
            "    accuracy                           0.97     31494\n",
            "   macro avg       0.58      0.57      0.58     31494\n",
            "weighted avg       0.96      0.97      0.97     31494\n",
            "\n"
          ]
        },
        {
          "output_type": "stream",
          "name": "stderr",
          "text": [
            "/usr/local/lib/python3.7/dist-packages/sklearn/metrics/_classification.py:1318: UndefinedMetricWarning: Precision and F-score are ill-defined and being set to 0.0 in labels with no predicted samples. Use `zero_division` parameter to control this behavior.\n",
            "  _warn_prf(average, modifier, msg_start, len(result))\n",
            "/usr/local/lib/python3.7/dist-packages/sklearn/metrics/_classification.py:1318: UndefinedMetricWarning: Precision and F-score are ill-defined and being set to 0.0 in labels with no predicted samples. Use `zero_division` parameter to control this behavior.\n",
            "  _warn_prf(average, modifier, msg_start, len(result))\n",
            "/usr/local/lib/python3.7/dist-packages/sklearn/metrics/_classification.py:1318: UndefinedMetricWarning: Precision and F-score are ill-defined and being set to 0.0 in labels with no predicted samples. Use `zero_division` parameter to control this behavior.\n",
            "  _warn_prf(average, modifier, msg_start, len(result))\n"
          ]
        }
      ],
      "source": [
        "# classification report\n",
        "print(classification_report(y_test,rfc_predict))"
      ]
    },
    {
      "cell_type": "code",
      "source": [
        "# confusion matrix\n",
        "\n",
        "cm = confusion_matrix(rfc_predict, y_test)\n",
        "cm"
      ],
      "metadata": {
        "colab": {
          "base_uri": "https://localhost:8080/"
        },
        "id": "GAA0jfL2DLFI",
        "outputId": "8e19ea44-2d6e-4ffc-b185-fd0537b675dd"
      },
      "execution_count": null,
      "outputs": [
        {
          "output_type": "execute_result",
          "data": {
            "text/plain": [
              "array([[11184,    50,     1,     0,    10],\n",
              "       [   41,  2659,     0,     0,    58],\n",
              "       [    0,     0,     0,     0,     0],\n",
              "       [    0,     0,     0,     0,     0],\n",
              "       [  259,   238,   273,    15, 16706]])"
            ]
          },
          "metadata": {},
          "execution_count": 46
        }
      ]
    },
    {
      "cell_type": "markdown",
      "metadata": {
        "id": "7_xn5n4awHO5"
      },
      "source": [
        "## Validation curve - Random Forest\n",
        "\n",
        "\n",
        "\n",
        "In this plot you can see the training scores and validation scores of an machine learning model\n",
        "\n"
      ]
    },
    {
      "cell_type": "code",
      "execution_count": null,
      "metadata": {
        "colab": {
          "base_uri": "https://localhost:8080/",
          "height": 393
        },
        "id": "f04Q3hzXFElg",
        "outputId": "99c6f010-4b03-46e4-b4ad-940236ff8278"
      },
      "outputs": [
        {
          "output_type": "display_data",
          "data": {
            "text/plain": [
              "<Figure size 576x396 with 1 Axes>"
            ],
            "image/png": "[encoded data removed]"
          },
          "metadata": {}
        },
        {
          "output_type": "execute_result",
          "data": {
            "text/plain": [
              "<matplotlib.axes._subplots.AxesSubplot at 0x7efce6219890>"
            ]
          },
          "metadata": {},
          "execution_count": 47
        }
      ],
      "source": [
        "# from sklearn.model_selection import validation_curve\n",
        "from yellowbrick.model_selection import validation_curve \n",
        "\n",
        "\n",
        "\n",
        "# Plot the validation curve\n",
        "viz = validation_curve(rfc, X_train, y_train, param_name=\"max_depth\", n_jobs=-1,\n",
        "                      param_range=np.arange(1, 8), cv=10, scoring=\"accuracy\")\n",
        "\n",
        "# Fit and show the visualizer\n",
        "viz.fit(X_train, y_train)        \n",
        "viz.score(X_test, y_test)\n",
        "viz.show()"
      ]
    },
    {
      "cell_type": "markdown",
      "metadata": {
        "id": "Ms36IXHw4JJ2"
      },
      "source": [
        "## Learning curve - Random Forest"
      ]
    },
    {
      "cell_type": "code",
      "execution_count": null,
      "metadata": {
        "colab": {
          "base_uri": "https://localhost:8080/",
          "height": 376
        },
        "id": "7J-BlDPv0aK7",
        "outputId": "38d91cd1-fcc0-4049-ad63-9edd0c8af77e"
      },
      "outputs": [
        {
          "output_type": "display_data",
          "data": {
            "text/plain": [
              "<Figure size 576x396 with 1 Axes>"
            ],
            "image/png": "[encoded data removed]"
          },
          "metadata": {}
        }
      ],
      "source": [
        "from sklearn.model_selection import learning_curve\n",
        "from sklearn.model_selection import ShuffleSplit\n",
        "\n",
        "\n",
        "def plot_learning_curve(estimator, title, X, Y, ylim=None, cv=None,\n",
        "                        n_jobs=None, train_sizes=np.linspace(.1, 1.0, 5)):\n",
        "    \n",
        "    plt.figure()\n",
        "    plt.title(title)\n",
        "    if ylim is not None:\n",
        "        plt.ylim(*ylim)\n",
        "    plt.xlabel(\"Training examples\")\n",
        "    plt.ylabel(\"Score\")\n",
        "    train_sizes, train_scores, test_scores = learning_curve(\n",
        "        estimator, X, Y, cv=cv, n_jobs=n_jobs, train_sizes=train_sizes)\n",
        "    train_scores_mean = np.mean(train_scores, axis=1)\n",
        "    train_scores_std = np.std(train_scores, axis=1)\n",
        "    test_scores_mean = np.mean(test_scores, axis=1)\n",
        "    test_scores_std = np.std(test_scores, axis=1)\n",
        "    plt.grid()\n",
        "\n",
        "    plt.fill_between(train_sizes, train_scores_mean - train_scores_std,\n",
        "                     train_scores_mean + train_scores_std, alpha=0.1,\n",
        "                     color=\"r\")\n",
        "    plt.fill_between(train_sizes, test_scores_mean - test_scores_std,\n",
        "                     test_scores_mean + test_scores_std, alpha=0.1, color=\"g\")\n",
        "    plt.plot(train_sizes, train_scores_mean, 'o-', color=\"r\",\n",
        "             label=\"Training score\")\n",
        "    plt.plot(train_sizes, test_scores_mean, 'o-', color=\"g\",\n",
        "             label=\"Cross-validation score\")\n",
        "\n",
        "    plt.legend(loc=\"best\")\n",
        "    return plt\n",
        "\n",
        "\n",
        "\n",
        "\n",
        "\n",
        "\n",
        "title = \"Learning Curves (Random Forest)\"\n",
        "cv = ShuffleSplit(n_splits=10, test_size=0.2, random_state=0)\n",
        "estimator = RandomForestClassifier(random_state = 2, n_estimators = 8, max_depth = 8)\n",
        "plot_learning_curve(estimator, title, X, Y, (0.7, 1.01), cv=cv, n_jobs=4)\n",
        "\n",
        "plt.show()"
      ]
    },
    {
      "cell_type": "code",
      "source": [
        "from yellowbrick.classifier import ROCAUC\n",
        "\n",
        "   \n",
        "visualizer = ROCAUC(rfc, classes=['normal', 'Dos', 'R2L', 'Probe', 'U2R'])\n",
        "\n",
        "visualizer.fit(X_train, y_train)        # Fit the training data to the visualizer\n",
        "visualizer.score(X_test, y_test)        # Evaluate the model on the test data\n",
        "visualizer.show()                       # Finalize and render the figure"
      ],
      "metadata": {
        "colab": {
          "base_uri": "https://localhost:8080/",
          "height": 428
        },
        "id": "KOOS8dFzD-t8",
        "outputId": "f7c86088-1291-4cc1-835a-aabf18282a6c"
      },
      "execution_count": null,
      "outputs": [
        {
          "output_type": "stream",
          "name": "stderr",
          "text": [
            "/usr/local/lib/python3.7/dist-packages/sklearn/base.py:451: UserWarning: X does not have valid feature names, but RandomForestClassifier was fitted with feature names\n",
            "  \"X does not have valid feature names, but\"\n"
          ]
        },
        {
          "output_type": "display_data",
          "data": {
            "text/plain": [
              "<Figure size 576x396 with 1 Axes>"
            ],
            "image/png": "[encoded data removed]"
          },
          "metadata": {}
        },
        {
          "output_type": "execute_result",
          "data": {
            "text/plain": [
              "<matplotlib.axes._subplots.AxesSubplot at 0x7efce6283690>"
            ]
          },
          "metadata": {},
          "execution_count": 49
        }
      ]
    },
    {
      "cell_type": "code",
      "source": [
        ""
      ],
      "metadata": {
        "id": "AblnomzlIH7h"
      },
      "execution_count": null,
      "outputs": []
    }
  ],
  "metadata": {
    "colab": {
      "collapsed_sections": [],
      "name": "network data.ipynb",
      "provenance": []
    },
    "kernelspec": {
      "display_name": "Python 3",
      "name": "python3"
    },
    "language_info": {
      "name": "python"
    }
  },
  "nbformat": 4,
  "nbformat_minor": 0
}